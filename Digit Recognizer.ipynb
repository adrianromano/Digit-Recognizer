{
 "cells": [
  {
   "cell_type": "markdown",
   "metadata": {},
   "source": [
    "# Identifying Hand-Drawn Digit Images\n",
    "\n",
    "#### *Adrian R Angkawijaya*\n",
    "#### *July 2018*"
   ]
  },
  {
   "cell_type": "markdown",
   "metadata": {},
   "source": [
    "# *Introduction*"
   ]
  },
  {
   "cell_type": "markdown",
   "metadata": {},
   "source": [
    "This is one of the project competition from Kaggle. The goal of the project is to correctly identify digits from a dataset of ten thousands of handwritten images. \n",
    "\n",
    "This is a MNIST (\"Modified National Institute of Standards and Technology\") dataset, also called the \"hello world\" dataset of computer vision. The data files contain gray-scale images of hand-drawn digits ranging from 0 to 9. There are a total of 784 pixels with each image having 28 pixels in height and 28 pixels in width. Visit the Kaggle page [here](https://www.kaggle.com/c/digit-recognizer/data) to download and learn more about the data.\n",
    "\n",
    "The model is build with Convolutional Neural Network (CNN) model of Keras API (Tensorflow backend)."
   ]
  },
  {
   "cell_type": "markdown",
   "metadata": {},
   "source": [
    "# *Data Preparation*"
   ]
  },
  {
   "cell_type": "markdown",
   "metadata": {},
   "source": [
    "**Import necessary libraries:**"
   ]
  },
  {
   "cell_type": "code",
   "execution_count": 1,
   "metadata": {},
   "outputs": [
    {
     "name": "stderr",
     "output_type": "stream",
     "text": [
      "/Users/adrianromano/anaconda3/lib/python3.6/site-packages/h5py/__init__.py:36: FutureWarning: Conversion of the second argument of issubdtype from `float` to `np.floating` is deprecated. In future, it will be treated as `np.float64 == np.dtype(float).type`.\n",
      "  from ._conv import register_converters as _register_converters\n",
      "Using TensorFlow backend.\n"
     ]
    }
   ],
   "source": [
    "## Data Analysis\n",
    "import numpy as np\n",
    "import pandas as pd\n",
    "\n",
    "## Data Visualization\n",
    "import matplotlib.pyplot as plt\n",
    "import matplotlib.image as mpimg\n",
    "import seaborn as sns\n",
    "%matplotlib inline\n",
    "\n",
    "## Machine Learning\n",
    "from sklearn.model_selection import train_test_split\n",
    "from sklearn.metrics import confusion_matrix\n",
    "from keras.utils.np_utils import to_categorical \n",
    "from keras.models import Sequential\n",
    "from keras.layers import Dense, Dropout, Flatten, Conv2D, MaxPool2D\n",
    "from keras.optimizers import RMSprop\n",
    "from keras.layers.normalization import BatchNormalization\n",
    "from keras.preprocessing.image import ImageDataGenerator\n",
    "from keras.callbacks import ReduceLROnPlateau\n",
    "\n",
    "## Ignore Warnings\n",
    "import warnings\n",
    "warnings.filterwarnings(\"ignore\")"
   ]
  },
  {
   "cell_type": "markdown",
   "metadata": {},
   "source": [
    "**Load the datasets and seperate the label column:**"
   ]
  },
  {
   "cell_type": "code",
   "execution_count": 2,
   "metadata": {},
   "outputs": [],
   "source": [
    "train = pd.read_csv(\"/Users/adrianromano/Downloads/Kaggle/train.csv\")\n",
    "test = pd.read_csv(\"/Users/adrianromano/Downloads/Kaggle/test.csv\")\n",
    "\n",
    "label = train[\"label\"]\n",
    "train.drop([\"label\"], axis = 1, inplace = True)"
   ]
  },
  {
   "cell_type": "markdown",
   "metadata": {},
   "source": [
    "**See the shape of the train and test datasets:**"
   ]
  },
  {
   "cell_type": "code",
   "execution_count": 3,
   "metadata": {},
   "outputs": [
    {
     "name": "stdout",
     "output_type": "stream",
     "text": [
      "Train data dimension: (42000, 784)\n",
      "--------------------------------\n",
      "Test data dimension: (28000, 784)\n"
     ]
    }
   ],
   "source": [
    "print(\"Train data dimension: \" + str(train.shape))\n",
    "print(\"--------------------------------\")\n",
    "print(\"Test data dimension: \" + str(test.shape))"
   ]
  },
  {
   "cell_type": "markdown",
   "metadata": {},
   "source": [
    "**Look at the first few rows of the train data:**"
   ]
  },
  {
   "cell_type": "code",
   "execution_count": 4,
   "metadata": {},
   "outputs": [
    {
     "data": {
      "text/html": [
       "<div>\n",
       "<style scoped>\n",
       "    .dataframe tbody tr th:only-of-type {\n",
       "        vertical-align: middle;\n",
       "    }\n",
       "\n",
       "    .dataframe tbody tr th {\n",
       "        vertical-align: top;\n",
       "    }\n",
       "\n",
       "    .dataframe thead th {\n",
       "        text-align: right;\n",
       "    }\n",
       "</style>\n",
       "<table border=\"1\" class=\"dataframe\">\n",
       "  <thead>\n",
       "    <tr style=\"text-align: right;\">\n",
       "      <th></th>\n",
       "      <th>pixel0</th>\n",
       "      <th>pixel1</th>\n",
       "      <th>pixel2</th>\n",
       "      <th>pixel3</th>\n",
       "      <th>pixel4</th>\n",
       "      <th>pixel5</th>\n",
       "      <th>pixel6</th>\n",
       "      <th>pixel7</th>\n",
       "      <th>pixel8</th>\n",
       "      <th>pixel9</th>\n",
       "      <th>...</th>\n",
       "      <th>pixel774</th>\n",
       "      <th>pixel775</th>\n",
       "      <th>pixel776</th>\n",
       "      <th>pixel777</th>\n",
       "      <th>pixel778</th>\n",
       "      <th>pixel779</th>\n",
       "      <th>pixel780</th>\n",
       "      <th>pixel781</th>\n",
       "      <th>pixel782</th>\n",
       "      <th>pixel783</th>\n",
       "    </tr>\n",
       "  </thead>\n",
       "  <tbody>\n",
       "    <tr>\n",
       "      <th>0</th>\n",
       "      <td>0</td>\n",
       "      <td>0</td>\n",
       "      <td>0</td>\n",
       "      <td>0</td>\n",
       "      <td>0</td>\n",
       "      <td>0</td>\n",
       "      <td>0</td>\n",
       "      <td>0</td>\n",
       "      <td>0</td>\n",
       "      <td>0</td>\n",
       "      <td>...</td>\n",
       "      <td>0</td>\n",
       "      <td>0</td>\n",
       "      <td>0</td>\n",
       "      <td>0</td>\n",
       "      <td>0</td>\n",
       "      <td>0</td>\n",
       "      <td>0</td>\n",
       "      <td>0</td>\n",
       "      <td>0</td>\n",
       "      <td>0</td>\n",
       "    </tr>\n",
       "    <tr>\n",
       "      <th>1</th>\n",
       "      <td>0</td>\n",
       "      <td>0</td>\n",
       "      <td>0</td>\n",
       "      <td>0</td>\n",
       "      <td>0</td>\n",
       "      <td>0</td>\n",
       "      <td>0</td>\n",
       "      <td>0</td>\n",
       "      <td>0</td>\n",
       "      <td>0</td>\n",
       "      <td>...</td>\n",
       "      <td>0</td>\n",
       "      <td>0</td>\n",
       "      <td>0</td>\n",
       "      <td>0</td>\n",
       "      <td>0</td>\n",
       "      <td>0</td>\n",
       "      <td>0</td>\n",
       "      <td>0</td>\n",
       "      <td>0</td>\n",
       "      <td>0</td>\n",
       "    </tr>\n",
       "    <tr>\n",
       "      <th>2</th>\n",
       "      <td>0</td>\n",
       "      <td>0</td>\n",
       "      <td>0</td>\n",
       "      <td>0</td>\n",
       "      <td>0</td>\n",
       "      <td>0</td>\n",
       "      <td>0</td>\n",
       "      <td>0</td>\n",
       "      <td>0</td>\n",
       "      <td>0</td>\n",
       "      <td>...</td>\n",
       "      <td>0</td>\n",
       "      <td>0</td>\n",
       "      <td>0</td>\n",
       "      <td>0</td>\n",
       "      <td>0</td>\n",
       "      <td>0</td>\n",
       "      <td>0</td>\n",
       "      <td>0</td>\n",
       "      <td>0</td>\n",
       "      <td>0</td>\n",
       "    </tr>\n",
       "    <tr>\n",
       "      <th>3</th>\n",
       "      <td>0</td>\n",
       "      <td>0</td>\n",
       "      <td>0</td>\n",
       "      <td>0</td>\n",
       "      <td>0</td>\n",
       "      <td>0</td>\n",
       "      <td>0</td>\n",
       "      <td>0</td>\n",
       "      <td>0</td>\n",
       "      <td>0</td>\n",
       "      <td>...</td>\n",
       "      <td>0</td>\n",
       "      <td>0</td>\n",
       "      <td>0</td>\n",
       "      <td>0</td>\n",
       "      <td>0</td>\n",
       "      <td>0</td>\n",
       "      <td>0</td>\n",
       "      <td>0</td>\n",
       "      <td>0</td>\n",
       "      <td>0</td>\n",
       "    </tr>\n",
       "    <tr>\n",
       "      <th>4</th>\n",
       "      <td>0</td>\n",
       "      <td>0</td>\n",
       "      <td>0</td>\n",
       "      <td>0</td>\n",
       "      <td>0</td>\n",
       "      <td>0</td>\n",
       "      <td>0</td>\n",
       "      <td>0</td>\n",
       "      <td>0</td>\n",
       "      <td>0</td>\n",
       "      <td>...</td>\n",
       "      <td>0</td>\n",
       "      <td>0</td>\n",
       "      <td>0</td>\n",
       "      <td>0</td>\n",
       "      <td>0</td>\n",
       "      <td>0</td>\n",
       "      <td>0</td>\n",
       "      <td>0</td>\n",
       "      <td>0</td>\n",
       "      <td>0</td>\n",
       "    </tr>\n",
       "  </tbody>\n",
       "</table>\n",
       "<p>5 rows × 784 columns</p>\n",
       "</div>"
      ],
      "text/plain": [
       "   pixel0  pixel1  pixel2  pixel3  pixel4  pixel5  pixel6  pixel7  pixel8  \\\n",
       "0       0       0       0       0       0       0       0       0       0   \n",
       "1       0       0       0       0       0       0       0       0       0   \n",
       "2       0       0       0       0       0       0       0       0       0   \n",
       "3       0       0       0       0       0       0       0       0       0   \n",
       "4       0       0       0       0       0       0       0       0       0   \n",
       "\n",
       "   pixel9    ...     pixel774  pixel775  pixel776  pixel777  pixel778  \\\n",
       "0       0    ...            0         0         0         0         0   \n",
       "1       0    ...            0         0         0         0         0   \n",
       "2       0    ...            0         0         0         0         0   \n",
       "3       0    ...            0         0         0         0         0   \n",
       "4       0    ...            0         0         0         0         0   \n",
       "\n",
       "   pixel779  pixel780  pixel781  pixel782  pixel783  \n",
       "0         0         0         0         0         0  \n",
       "1         0         0         0         0         0  \n",
       "2         0         0         0         0         0  \n",
       "3         0         0         0         0         0  \n",
       "4         0         0         0         0         0  \n",
       "\n",
       "[5 rows x 784 columns]"
      ]
     },
     "execution_count": 4,
     "metadata": {},
     "output_type": "execute_result"
    }
   ],
   "source": [
    "train.head()"
   ]
  },
  {
   "cell_type": "markdown",
   "metadata": {},
   "source": [
    "**See the frequency distribution of the digit values:**"
   ]
  },
  {
   "cell_type": "code",
   "execution_count": 5,
   "metadata": {},
   "outputs": [
    {
     "data": {
      "text/plain": [
       "<matplotlib.axes._subplots.AxesSubplot at 0x1a1c03cdd8>"
      ]
     },
     "execution_count": 5,
     "metadata": {},
     "output_type": "execute_result"
    },
    {
     "data": {
      "image/png": "[encoded data removed]",
      "text/plain": [
       "<matplotlib.figure.Figure at 0x10debb940>"
      ]
     },
     "metadata": {},
     "output_type": "display_data"
    }
   ],
   "source": [
    "sns.countplot(label)"
   ]
  },
  {
   "cell_type": "markdown",
   "metadata": {},
   "source": [
    "All the digits seems to have similar counts."
   ]
  },
  {
   "cell_type": "markdown",
   "metadata": {},
   "source": [
    "**Check for missing values:**"
   ]
  },
  {
   "cell_type": "code",
   "execution_count": 6,
   "metadata": {},
   "outputs": [
    {
     "name": "stdout",
     "output_type": "stream",
     "text": [
      "Series([], dtype: int64)\n"
     ]
    }
   ],
   "source": [
    "train_NA = train.isnull().sum()\n",
    "train_NA = train_NA.drop(train_NA[train_NA == 0].index).sort_values(ascending = False)\n",
    "\n",
    "print(train_NA)"
   ]
  },
  {
   "cell_type": "code",
   "execution_count": 7,
   "metadata": {},
   "outputs": [
    {
     "name": "stdout",
     "output_type": "stream",
     "text": [
      "Series([], dtype: int64)\n"
     ]
    }
   ],
   "source": [
    "test_NA = test.isnull().sum()\n",
    "test_NA = test_NA.drop(test_NA[test_NA == 0].index).sort_values(ascending = False)\n",
    "\n",
    "print(test_NA)"
   ]
  },
  {
   "cell_type": "markdown",
   "metadata": {},
   "source": [
    "No missing values present in both train and test sets !"
   ]
  },
  {
   "cell_type": "markdown",
   "metadata": {},
   "source": [
    "**Convert data types to numeric:**"
   ]
  },
  {
   "cell_type": "code",
   "execution_count": 8,
   "metadata": {},
   "outputs": [],
   "source": [
    "train = train.values.astype(\"float32\")\n",
    "test = test.values.astype(\"float32\")\n",
    "\n",
    "label = label.values.astype(\"int32\")"
   ]
  },
  {
   "cell_type": "markdown",
   "metadata": {},
   "source": [
    "**These are some examples of the handwritten digit images:**"
   ]
  },
  {
   "cell_type": "code",
   "execution_count": 9,
   "metadata": {},
   "outputs": [
    {
     "data": {
      "image/png": "[encoded data removed]",
      "text/plain": [
       "<matplotlib.figure.Figure at 0x1a1bed6898>"
      ]
     },
     "metadata": {},
     "output_type": "display_data"
    }
   ],
   "source": [
    "plt.figure(figsize=(12,10))\n",
    "x, y = 5, 5\n",
    "for i in range(25):  \n",
    "    plt.subplot(y, x, i+1)\n",
    "    plt.imshow(train[i].reshape((28,28)), cmap='binary')\n",
    "plt.show()"
   ]
  },
  {
   "cell_type": "markdown",
   "metadata": {},
   "source": [
    "**Normalize the values so that the values are in range of (0..1):**"
   ]
  },
  {
   "cell_type": "code",
   "execution_count": 10,
   "metadata": {},
   "outputs": [],
   "source": [
    "train = train/255.0\n",
    "test = test/255.0"
   ]
  },
  {
   "cell_type": "markdown",
   "metadata": {},
   "source": [
    "**Reshape the image to (28 x 28 x 1) 3D matrices:** "
   ]
  },
  {
   "cell_type": "code",
   "execution_count": 11,
   "metadata": {},
   "outputs": [],
   "source": [
    "train = train.reshape(-1, 28, 28,1)\n",
    "test = test.reshape(-1, 28, 28,1)"
   ]
  },
  {
   "cell_type": "markdown",
   "metadata": {},
   "source": [
    "**One hot encoding of the label values:**"
   ]
  },
  {
   "cell_type": "code",
   "execution_count": 12,
   "metadata": {},
   "outputs": [],
   "source": [
    "label = to_categorical(label, num_classes = 10)"
   ]
  },
  {
   "cell_type": "markdown",
   "metadata": {},
   "source": [
    "# *Model Building*"
   ]
  },
  {
   "cell_type": "markdown",
   "metadata": {},
   "source": [
    "**Split the training set to 90% for training the model and 10% to test the model:**"
   ]
  },
  {
   "cell_type": "code",
   "execution_count": 13,
   "metadata": {},
   "outputs": [],
   "source": [
    "X_train, X_val, y_train, y_val = train_test_split(train, label, train_size = 0.9, random_state=88)"
   ]
  },
  {
   "cell_type": "markdown",
   "metadata": {},
   "source": [
    "**Build the CNN model:**"
   ]
  },
  {
   "cell_type": "code",
   "execution_count": null,
   "metadata": {},
   "outputs": [],
   "source": [
    "## Build with Keras Sequential API by adding one layer at a time\n",
    "model = Sequential()\n",
    "model.add(Conv2D(32, kernel_size=(3, 3),activation='relu',kernel_initializer='he_normal',input_shape=(28,28,1)))\n",
    "model.add(Conv2D(32, kernel_size=(3, 3),activation='relu',kernel_initializer='he_normal'))\n",
    "model.add(MaxPool2D((2, 2)))\n",
    "model.add(Dropout(0.20))\n",
    "model.add(Conv2D(64, (3, 3), activation='relu',padding='same',kernel_initializer='he_normal'))\n",
    "model.add(Conv2D(64, (3, 3), activation='relu',padding='same',kernel_initializer='he_normal'))\n",
    "model.add(MaxPool2D(pool_size=(2, 2)))\n",
    "model.add(Dropout(0.25))\n",
    "model.add(Conv2D(128, (3, 3), activation='relu',padding='same',kernel_initializer='he_normal'))\n",
    "model.add(Dropout(0.25))\n",
    "model.add(Flatten())\n",
    "model.add(Dense(128, activation='relu'))\n",
    "model.add(BatchNormalization())\n",
    "model.add(Dropout(0.25))\n",
    "model.add(Dense(10, activation='softmax'))\n",
    "\n",
    "## Compile the model by adding optimizer and loss function\n",
    "model.compile(loss = \"categorical_crossentropy\",\n",
    "              optimizer=RMSprop(),\n",
    "              metrics=['accuracy'])\n",
    "\n",
    "# Set a learning rate annealer\n",
    "learning_rate_reduction = ReduceLROnPlateau(monitor='val_acc', \n",
    "                                            patience=3, \n",
    "                                            verbose=1, \n",
    "                                            factor=0.5, \n",
    "                                            min_lr=0.0001)"
   ]
  },
  {
   "cell_type": "markdown",
   "metadata": {},
   "source": [
    "**Data Augmentation:** "
   ]
  },
  {
   "cell_type": "code",
   "execution_count": 15,
   "metadata": {},
   "outputs": [],
   "source": [
    "datagen = ImageDataGenerator(\n",
    "        featurewise_center=False,  # set input mean to 0 over the dataset\n",
    "        samplewise_center=False,  # set each sample mean to 0\n",
    "        featurewise_std_normalization=False,  # divide inputs by std of the dataset\n",
    "        samplewise_std_normalization=False,  # divide each input by its std\n",
    "        zca_whitening=False,  # apply ZCA whitening\n",
    "        rotation_range=15, # randomly rotate images in the range (degrees, 0 to 180)\n",
    "        zoom_range = 0.1, # Randomly zoom image \n",
    "        width_shift_range=0.1,  # randomly shift images horizontally (fraction of total width)\n",
    "        height_shift_range=0.1,  # randomly shift images vertically (fraction of total height)\n",
    "        horizontal_flip=False,  # randomly flip images\n",
    "        vertical_flip=False)  # randomly flip images"
   ]
  },
  {
   "cell_type": "markdown",
   "metadata": {},
   "source": [
    "**Note:** This is a recommended step to prevent overfitting. Data augmentation involves the altering of the train data with small transformations to reproduce variations of handwritten digits. It enables the model to recognize more variations of handwriting and thus improve accuracy."
   ]
  },
  {
   "cell_type": "markdown",
   "metadata": {},
   "source": [
    "# *Model Fit and Evaluation*"
   ]
  },
  {
   "cell_type": "markdown",
   "metadata": {},
   "source": [
    "**Fit the model to the training set:**"
   ]
  },
  {
   "cell_type": "code",
   "execution_count": 16,
   "metadata": {},
   "outputs": [
    {
     "name": "stdout",
     "output_type": "stream",
     "text": [
      "Epoch 1/30\n",
      "590/590 [==============================] - 77s 130ms/step - loss: 0.3320 - acc: 0.8937 - val_loss: 0.1119 - val_acc: 0.9652\n",
      "Epoch 2/30\n",
      "590/590 [==============================] - 77s 130ms/step - loss: 0.1088 - acc: 0.9656 - val_loss: 0.0534 - val_acc: 0.9824\n",
      "Epoch 3/30\n",
      "590/590 [==============================] - 83s 141ms/step - loss: 0.0817 - acc: 0.9745 - val_loss: 0.0344 - val_acc: 0.9898\n",
      "Epoch 4/30\n",
      "590/590 [==============================] - 86s 146ms/step - loss: 0.0705 - acc: 0.9784 - val_loss: 0.0439 - val_acc: 0.9867\n",
      "Epoch 5/30\n",
      "590/590 [==============================] - 84s 143ms/step - loss: 0.0636 - acc: 0.9811 - val_loss: 0.0286 - val_acc: 0.9902\n",
      "Epoch 6/30\n",
      "590/590 [==============================] - 84s 143ms/step - loss: 0.0572 - acc: 0.9824 - val_loss: 0.0284 - val_acc: 0.9912\n",
      "Epoch 7/30\n",
      "590/590 [==============================] - 82s 139ms/step - loss: 0.0523 - acc: 0.9842 - val_loss: 0.0266 - val_acc: 0.9914\n",
      "Epoch 8/30\n",
      "590/590 [==============================] - 85s 144ms/step - loss: 0.0500 - acc: 0.9846 - val_loss: 0.0291 - val_acc: 0.9886\n",
      "Epoch 9/30\n",
      "590/590 [==============================] - 82s 139ms/step - loss: 0.0481 - acc: 0.9853 - val_loss: 0.0282 - val_acc: 0.9907\n",
      "Epoch 10/30\n",
      "590/590 [==============================] - 81s 137ms/step - loss: 0.0422 - acc: 0.9868 - val_loss: 0.0205 - val_acc: 0.9921\n",
      "Epoch 11/30\n",
      "590/590 [==============================] - 81s 137ms/step - loss: 0.0427 - acc: 0.9872 - val_loss: 0.0267 - val_acc: 0.9921\n",
      "Epoch 12/30\n",
      "590/590 [==============================] - 79s 134ms/step - loss: 0.0392 - acc: 0.9881 - val_loss: 0.0149 - val_acc: 0.9950\n",
      "Epoch 13/30\n",
      "590/590 [==============================] - 79s 135ms/step - loss: 0.0405 - acc: 0.9879 - val_loss: 0.0151 - val_acc: 0.9950\n",
      "Epoch 14/30\n",
      "590/590 [==============================] - 78s 133ms/step - loss: 0.0379 - acc: 0.9885 - val_loss: 0.0189 - val_acc: 0.9943\n",
      "Epoch 15/30\n",
      "590/590 [==============================] - 80s 135ms/step - loss: 0.0363 - acc: 0.9894 - val_loss: 0.0264 - val_acc: 0.9924\n",
      "\n",
      "Epoch 00015: ReduceLROnPlateau reducing learning rate to 0.0005000000237487257.\n",
      "Epoch 16/30\n",
      "590/590 [==============================] - 78s 132ms/step - loss: 0.0311 - acc: 0.9905 - val_loss: 0.0187 - val_acc: 0.9952\n",
      "Epoch 17/30\n",
      "590/590 [==============================] - 77s 131ms/step - loss: 0.0253 - acc: 0.9918 - val_loss: 0.0131 - val_acc: 0.9955\n",
      "Epoch 18/30\n",
      "590/590 [==============================] - 79s 134ms/step - loss: 0.0269 - acc: 0.9923 - val_loss: 0.0153 - val_acc: 0.9950\n",
      "Epoch 19/30\n",
      "590/590 [==============================] - 78s 132ms/step - loss: 0.0282 - acc: 0.9917 - val_loss: 0.0126 - val_acc: 0.9967\n",
      "Epoch 20/30\n",
      "590/590 [==============================] - 78s 132ms/step - loss: 0.0261 - acc: 0.9921 - val_loss: 0.0126 - val_acc: 0.9960\n",
      "Epoch 21/30\n",
      "590/590 [==============================] - 78s 131ms/step - loss: 0.0268 - acc: 0.9921 - val_loss: 0.0175 - val_acc: 0.9957\n",
      "Epoch 22/30\n",
      "590/590 [==============================] - 81s 137ms/step - loss: 0.0248 - acc: 0.9927 - val_loss: 0.0204 - val_acc: 0.9940\n",
      "\n",
      "Epoch 00022: ReduceLROnPlateau reducing learning rate to 0.0002500000118743628.\n",
      "Epoch 23/30\n",
      "590/590 [==============================] - 84s 142ms/step - loss: 0.0228 - acc: 0.9930 - val_loss: 0.0124 - val_acc: 0.9964\n",
      "Epoch 24/30\n",
      "590/590 [==============================] - 81s 138ms/step - loss: 0.0224 - acc: 0.9932 - val_loss: 0.0125 - val_acc: 0.9967\n",
      "Epoch 25/30\n",
      "590/590 [==============================] - 85s 144ms/step - loss: 0.0223 - acc: 0.9937 - val_loss: 0.0123 - val_acc: 0.9957\n",
      "\n",
      "Epoch 00025: ReduceLROnPlateau reducing learning rate to 0.0001250000059371814.\n",
      "Epoch 26/30\n",
      "590/590 [==============================] - 81s 138ms/step - loss: 0.0205 - acc: 0.9939 - val_loss: 0.0145 - val_acc: 0.9962\n",
      "Epoch 27/30\n",
      "590/590 [==============================] - 81s 137ms/step - loss: 0.0195 - acc: 0.9942 - val_loss: 0.0131 - val_acc: 0.9960\n",
      "Epoch 28/30\n",
      "590/590 [==============================] - 81s 138ms/step - loss: 0.0189 - acc: 0.9947 - val_loss: 0.0135 - val_acc: 0.9962\n",
      "\n",
      "Epoch 00028: ReduceLROnPlateau reducing learning rate to 0.0001.\n",
      "Epoch 29/30\n",
      "590/590 [==============================] - 84s 142ms/step - loss: 0.0185 - acc: 0.9944 - val_loss: 0.0127 - val_acc: 0.9964\n",
      "Epoch 30/30\n",
      "590/590 [==============================] - 81s 138ms/step - loss: 0.0193 - acc: 0.9946 - val_loss: 0.0139 - val_acc: 0.9957\n"
     ]
    }
   ],
   "source": [
    "epochs = 30 \n",
    "batch_size = 64\n",
    "\n",
    "datagen.fit(X_train)\n",
    "\n",
    "h = model.fit_generator(datagen.flow(X_train,y_train, batch_size=batch_size),\n",
    "                              epochs = epochs, validation_data = (X_val,y_val),\n",
    "                              verbose = 1, steps_per_epoch=X_train.shape[0] // batch_size\n",
    "                              , callbacks=[learning_rate_reduction])"
   ]
  },
  {
   "cell_type": "markdown",
   "metadata": {},
   "source": [
    "The models reaches an accuracy of more than 99% on the validation datasets with 30 epochs. This is a very good model in terms of accuracy !"
   ]
  },
  {
   "cell_type": "markdown",
   "metadata": {},
   "source": [
    "**Visualize the training and validation difference for accuracy and loss:**"
   ]
  },
  {
   "cell_type": "code",
   "execution_count": null,
   "metadata": {},
   "outputs": [],
   "source": [
    "## Accuracy\n",
    "plt.plot(h.history['acc'], color ='b', label='Training accuracy')\n",
    "plt.plot(h.history['val_acc'], color ='r', label='Validation accuracy')\n",
    "plt.legend(loc='best', shadow=True)\n",
    "plt.title(\"Training vs Validation Accuracy\")\n",
    "plt.show()\n",
    "\n",
    "## Loss\n",
    "plt.plot(h.history['loss'], color ='b', label='Training loss')\n",
    "plt.plot(h.history['val_loss'], color ='r', label='Validation loss')\n",
    "plt.legend(loc='best', shadow=True)\n",
    "plt.title(\"Training vs Validation Loss\")\n",
    "plt.show()"
   ]
  },
  {
   "cell_type": "markdown",
   "metadata": {},
   "source": [
    "Our model looks very well trained. The validation accuracy is close and always higher than the training accuracy during the training. It means that the model generalize well and does not overfit."
   ]
  },
  {
   "cell_type": "markdown",
   "metadata": {},
   "source": [
    "**Look at the confusion matrix of the model:**"
   ]
  },
  {
   "cell_type": "code",
   "execution_count": 18,
   "metadata": {},
   "outputs": [
    {
     "data": {
      "image/png": "[encoded data removed]",
      "text/plain": [
       "<matplotlib.figure.Figure at 0x1a1bb94860>"
      ]
     },
     "metadata": {},
     "output_type": "display_data"
    }
   ],
   "source": [
    "Y_pred = model.predict(X_val)\n",
    "Y_pred_classes = np.argmax(Y_pred, axis = 1) \n",
    "Y_true = np.argmax(y_val, axis = 1)\n",
    "\n",
    "confusion_mtx = confusion_matrix(Y_true, Y_pred_classes)\n",
    "\n",
    "plt.figure(figsize = (8,6))\n",
    "confusion_matrix = sns.heatmap(confusion_mtx, annot=True, cmap=\"YlGnBu\", fmt='g', cbar = False)\n",
    "confusion_matrix.set_xlabel(\"Predicted Label\")\n",
    "confusion_matrix.set_ylabel(\"True Label\")\n",
    "confusion_matrix.set_title(\"Confusion Matrix\")\n",
    "plt.show()"
   ]
  },
  {
   "cell_type": "markdown",
   "metadata": {},
   "source": [
    "There seem to be a few errors present but a large majority of the digits are predicted correctly. It is shown that the highest error is found in differentiating 4 and 9."
   ]
  },
  {
   "cell_type": "markdown",
   "metadata": {},
   "source": [
    "**Finally, let's visualize the errors:**"
   ]
  },
  {
   "cell_type": "code",
   "execution_count": 19,
   "metadata": {},
   "outputs": [
    {
     "data": {
      "image/png": "[encoded data removed]",
      "text/plain": [
       "<matplotlib.figure.Figure at 0x10ae63f98>"
      ]
     },
     "metadata": {},
     "output_type": "display_data"
    }
   ],
   "source": [
    "# Errors are difference between predicted labels and true labels that are not 0\n",
    "errors = (Y_pred_classes - Y_true != 0)\n",
    "\n",
    "Y_pred_classes_errors = Y_pred_classes[errors]\n",
    "Y_pred_errors = Y_pred[errors]\n",
    "Y_true_errors = Y_true[errors]\n",
    "X_val_errors = X_val[errors]\n",
    "\n",
    "## Define a function to visualize the errors\n",
    "def display_errors(errors_index,img_errors,pred_errors, obs_errors):\n",
    "    \n",
    "    n = 0\n",
    "    nrows = 2\n",
    "    ncols = 4\n",
    "    fig, ax = plt.subplots(nrows,ncols,sharex=True,sharey=True,figsize=(12,10))\n",
    "    for row in range(nrows):\n",
    "        for col in range(ncols):\n",
    "            error = errors_index[n]\n",
    "            ax[row,col].imshow((img_errors[error]).reshape((28,28)), cmap='binary')\n",
    "            ax[row,col].set_title(\"Predicted label :{}\\nTrue label :{}\".format(pred_errors[error],obs_errors[error]))\n",
    "            n += 1\n",
    "\n",
    "\n",
    "Y_pred_errors_prob = np.max(Y_pred_errors,axis = 1)\n",
    "true_prob_errors = np.diagonal(np.take(Y_pred_errors, Y_true_errors, axis=1))\n",
    "delta_pred_true_errors = Y_pred_errors_prob - true_prob_errors\n",
    "sorted_delta_errors = np.argsort(delta_pred_true_errors)\n",
    "\n",
    "most_important_errors = sorted_delta_errors[-8:]\n",
    "display_errors(most_important_errors, X_val_errors, Y_pred_classes_errors, Y_true_errors)"
   ]
  },
  {
   "cell_type": "markdown",
   "metadata": {},
   "source": [
    "The errors seem understandable. The digits are very misleading and can be easily mistaken by humans as well.\n",
    "\n",
    "For example, the first one does seem like a four as was predicted but the true digit is a 9. The last digit does look like a 6 as was predicted but the true value is actually a 5."
   ]
  },
  {
   "cell_type": "markdown",
   "metadata": {},
   "source": [
    "# *Prediction*"
   ]
  },
  {
   "cell_type": "markdown",
   "metadata": {},
   "source": [
    "**Use the train model to predict the original test set:**"
   ]
  },
  {
   "cell_type": "code",
   "execution_count": 21,
   "metadata": {},
   "outputs": [],
   "source": [
    "prediction = model.predict(test)\n",
    "\n",
    "# select the index with the maximum probability\n",
    "prediction = np.argmax(prediction,axis = 1)"
   ]
  },
  {
   "cell_type": "markdown",
   "metadata": {},
   "source": [
    "**Store the prediction in a csv file for the submission to Kaggle:**"
   ]
  },
  {
   "cell_type": "code",
   "execution_count": 22,
   "metadata": {},
   "outputs": [],
   "source": [
    "df = pd.DataFrame(prediction)\n",
    "df.index+=1\n",
    "df.index.name='ImageId'\n",
    "df.columns=['Label']\n",
    "df.to_csv('digit_preds.csv', header=True)"
   ]
  }
 ],
 "metadata": {
  "kernelspec": {
   "display_name": "Python 3",
   "language": "python",
   "name": "python3"
  },
  "language_info": {
   "codemirror_mode": {
    "name": "ipython",
    "version": 3
   },
   "file_extension": ".py",
   "mimetype": "text/x-python",
   "name": "python",
   "nbconvert_exporter": "python",
   "pygments_lexer": "ipython3",
   "version": "3.6.4"
  }
 },
 "nbformat": 4,
 "nbformat_minor": 2
}
